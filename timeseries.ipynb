{
 "cells": [
  {
   "cell_type": "code",
   "execution_count": 53,
   "metadata": {},
   "outputs": [],
   "source": [
    "import pandas as pd\n",
    "import warnings\n",
    "from sqlalchemy import create_engine \n",
    "import sys\n",
    "from statsmodels.tsa.api import ExponentialSmoothing, SimpleExpSmoothing, Holt\n",
    "from pyramid.arima import auto_arima\n",
    "from numpy import median,mean\n",
    "import numpy as np\n",
    "import seaborn as sns"
   ]
  },
  {
   "cell_type": "code",
   "execution_count": 60,
   "metadata": {},
   "outputs": [
    {
     "data": {
      "text/html": [
       "<div>\n",
       "<style scoped>\n",
       "    .dataframe tbody tr th:only-of-type {\n",
       "        vertical-align: middle;\n",
       "    }\n",
       "\n",
       "    .dataframe tbody tr th {\n",
       "        vertical-align: top;\n",
       "    }\n",
       "\n",
       "    .dataframe thead th {\n",
       "        text-align: right;\n",
       "    }\n",
       "</style>\n",
       "<table border=\"1\" class=\"dataframe\">\n",
       "  <thead>\n",
       "    <tr style=\"text-align: right;\">\n",
       "      <th></th>\n",
       "      <th>date</th>\n",
       "      <th>sales</th>\n",
       "    </tr>\n",
       "  </thead>\n",
       "  <tbody>\n",
       "    <tr>\n",
       "      <th>0</th>\n",
       "      <td>7/1/2014</td>\n",
       "      <td>762</td>\n",
       "    </tr>\n",
       "    <tr>\n",
       "      <th>1</th>\n",
       "      <td>8/1/2014</td>\n",
       "      <td>573</td>\n",
       "    </tr>\n",
       "    <tr>\n",
       "      <th>2</th>\n",
       "      <td>9/1/2014</td>\n",
       "      <td>637</td>\n",
       "    </tr>\n",
       "    <tr>\n",
       "      <th>3</th>\n",
       "      <td>10/1/2014</td>\n",
       "      <td>770</td>\n",
       "    </tr>\n",
       "    <tr>\n",
       "      <th>4</th>\n",
       "      <td>11/1/2014</td>\n",
       "      <td>614</td>\n",
       "    </tr>\n",
       "  </tbody>\n",
       "</table>\n",
       "</div>"
      ],
      "text/plain": [
       "        date  sales\n",
       "0   7/1/2014    762\n",
       "1   8/1/2014    573\n",
       "2   9/1/2014    637\n",
       "3  10/1/2014    770\n",
       "4  11/1/2014    614"
      ]
     },
     "execution_count": 60,
     "metadata": {},
     "output_type": "execute_result"
    }
   ],
   "source": [
    "# Reading Raw file\n",
    "SCDData=pd.read_csv(\"C:\\\\Users\\\\cmishra2\\\\Documents\\\\study\\\\Python schedule\\\\time series\\\\raw.csv\")\n",
    "SCDData.head()"
   ]
  },
  {
   "cell_type": "code",
   "execution_count": 61,
   "metadata": {},
   "outputs": [],
   "source": [
    "SCDData['date']=SCDData['date'].apply(lambda x: pd.to_datetime(x,errors='ignore'))"
   ]
  },
  {
   "cell_type": "code",
   "execution_count": 62,
   "metadata": {},
   "outputs": [
    {
     "data": {
      "text/plain": [
       "date     datetime64[ns]\n",
       "sales             int64\n",
       "dtype: object"
      ]
     },
     "execution_count": 62,
     "metadata": {},
     "output_type": "execute_result"
    }
   ],
   "source": [
    "SCDData.dtypes"
   ]
  },
  {
   "cell_type": "code",
   "execution_count": 63,
   "metadata": {},
   "outputs": [
    {
     "name": "stdout",
     "output_type": "stream",
     "text": [
      "            sales\n",
      "date             \n",
      "2014-07-01    762\n",
      "2014-08-01    573\n",
      "2014-09-01    637\n",
      "2014-10-01    770\n",
      "2014-11-01    614\n"
     ]
    },
    {
     "name": "stderr",
     "output_type": "stream",
     "text": [
      "C:\\Anaconda\\lib\\site-packages\\seaborn\\timeseries.py:183: UserWarning: The tsplot function is deprecated and will be removed or replaced (in a substantially altered version) in a future release.\n",
      "  warnings.warn(msg, UserWarning)\n"
     ]
    },
    {
     "data": {
      "image/png": "[encoded data removed]",
      "text/plain": [
       "<matplotlib.figure.Figure at 0x191d3763c50>"
      ]
     },
     "metadata": {},
     "output_type": "display_data"
    }
   ],
   "source": [
    "SCDData.index=SCDData.date\n",
    "SCDData1=SCDData.drop('date', axis=1)\n",
    "print(SCDData1.head())\n",
    "sns.tsplot(data=SCDData1.sales)\n",
    "plt.show()"
   ]
  },
  {
   "cell_type": "code",
   "execution_count": 49,
   "metadata": {},
   "outputs": [],
   "source": [
    "def remove_outlier(df1):\n",
    "    q1 = df1.ix[:,1].quantile(0.25)\n",
    "    q3 = df1.ix[:,1].quantile(0.75)\n",
    "    iqr = q3-q1 #Interquartile range\n",
    "    fence_low  = q1-1.5*iqr\n",
    "    fence_high = q3+1.5*iqr\n",
    "    df1.ix[:,1] = np.where((df1.ix[:,1] <fence_low) & (df1.ix[:,1] > fence_high), median(df1.ix[:,1]), df1.ix[:,1])\n",
    "    # Treat zero\n",
    "    df1.ix[:,1]=df1.ix[:,1].replace(0,df1.ix[:,1].mean())\n",
    "    return(df1)\n",
    "\n",
    "def Create_train_test(df1):\n",
    "    df1.index=df1['date']\n",
    "    train = df1[0:len(df1)-3]\n",
    "    test = df1[len(df1)-3:len(df1)]\n",
    "    print(train.head())\n",
    "    print(test.head())\n",
    "    return(train,test)\n",
    "\n",
    "def mape(y_true, y_pred): \n",
    "    y_true, y_pred = np.array(y_true), np.array(y_pred)\n",
    "    return np.mean(np.abs((y_true - y_pred) / y_true))  \n",
    "\n",
    "def Simple_average(df1,df2):\n",
    "    #prediction\n",
    "    future_forecast=[0 for _ in range(len(df2))]\n",
    "    future_forecast = [df1.ix[:,1].mean() for x in future_forecast]\n",
    "    Sa_mape=mape(df2.ix[:,1],future_forecast)\n",
    "    #stderr\n",
    "    stder=np.std(list(np.array(df1.ix[:,1])-np.array(df1.ix[:,1].mean())))\n",
    "    return(Sa_mape,future_forecast,stder)\n",
    "\n",
    "def Simple_Moving(df1,df2):\n",
    "    #prediction\n",
    "    future_forecast=[0 for _ in range(len(df2))]\n",
    "    future_forecast = [df1.ix[:,1].rolling(3).mean().iloc[-1] for x in future_forecast]\n",
    "    Sm_mape=mape(df2.ix[:,1],future_forecast)\n",
    "    #stderr\n",
    "    x1=list(np.array(df1.ix[:,1])-np.array(df1.ix[:,1].rolling(3).mean()))\n",
    "    l = [x for x in x1 if ~np.isnan(x)]\n",
    "    stder=np.std(l)\n",
    "    return(Sm_mape,future_forecast,stder)\n",
    "\n",
    "def Naive(df1,df2):\n",
    "    #prediction\n",
    "    future_forecast=[0 for _ in range(len(df2))]\n",
    "    future_forecast = [df1.ix[:,1].iloc[-1] for x in future_forecast]\n",
    "    Na_mape=mape(df2.ix[:,1],future_forecast)\n",
    "    #stderr\n",
    "    stder=np.std(np.ediff1d(df1.ix[:,1]))\n",
    "    return(Na_mape,future_forecast,stder)\n",
    "    \n",
    "\n",
    "def Seasonal_Naive(df1,df2):\n",
    "    #prediction\n",
    "    daterange =df2['date'].apply(lambda x: x - pd.DateOffset(years=1))\n",
    "    print(daterange)\n",
    "    future_forecast=df1.ix[:,1][df1['date'].isin(daterange)]\n",
    "    SNa_mape=mape(df2.ix[:,1],future_forecast)\n",
    "    #stderr\n",
    "    daterange1 =df1['date'].apply(lambda x: x - pd.DateOffset(years=1))\n",
    "    x=df1.ix[:,1][df1['date'].isin(daterange1)]\n",
    "    stder=np.std(list(np.array(df1.ix[len(df1)-len(x):len(df1):,1])-np.array(x)))\n",
    "    return(SNa_mape,future_forecast,stder)\n",
    "    \n",
    "\n",
    "###need to correct  stderr  \n",
    "def Rwdrift(df1,df2):\n",
    "    #prediction\n",
    "    y_t = df1.ix[:,1].iloc[-1]\n",
    "    m = (y_t - df1.ix[:,1].iloc[0]) / len(df1.ix[:,1])\n",
    "    h = np.linspace(0,len(df2.ix[:,1])-1, len(df2.ix[:,1]))\n",
    "    future_forecast = y_t + m * h\n",
    "    Rwd_mape=mape(df2.ix[:,1],future_forecast)\n",
    "    \n",
    "    ##stder\n",
    "    h1 = np.linspace(0,len(df1.ix[:,1])-1, len(df1.ix[:,1]))\n",
    "    future_forecast1 = y_t + m * h1\n",
    "    stder=np.std(list(np.array(df1.ix[:,1])-np.array(future_forecast1)))\n",
    "    print(stder)\n",
    "    return(Rwd_mape,future_forecast,stder)\n",
    "    \n",
    "\n",
    "def Auto_arima(df1,df2):\n",
    "    stepwise_model = auto_arima(df1.ix[:,1],seasonal=True,trace=True,error_action='ignore',  suppress_warnings=True, stepwise=True)\n",
    "    #prediction\n",
    "    future_forecast = stepwise_model.predict(n_periods=len(df2))\n",
    "    Arima_mape=mape(df2.ix[:,1],future_forecast)\n",
    "    stder=np.std(stepwise_model.resid())\n",
    "    return(Arima_mape,future_forecast,stder)\n",
    "    \n",
    "def SimpleExp_Smoothing(df1,df2):\n",
    "    stepwise_model = SimpleExpSmoothing(df1.ix[:,1]).fit(smoothing_level= 0.6,optimized=False)\n",
    "    #prediction\n",
    "    future_forecast = stepwise_model.forecast(len(df2))\n",
    "    Ses_mape=mape(future_forecast,df2.ix[:,1])\n",
    "    stder=np.std(stepwise_model.resid)\n",
    "    return(Ses_mape,future_forecast,stder)\n",
    "\n",
    "def Holtwinter_Linear(df1,df2):\n",
    "    stepwise_model = Holt(df1.ix[:,1]).fit(smoothing_level = 0.3,smoothing_slope = 0.1)\n",
    "    #prediction\n",
    "    future_forecast = stepwise_model.forecast(len(df2))\n",
    "    Holtli_mape=mape(df2.ix[:,1],future_forecast)\n",
    "    stder=np.std(stepwise_model.resid)\n",
    "    return(Holtli_mape,future_forecast,stder)\n",
    "\n",
    "def Holtwinter_Seasonal(df1,df2):\n",
    "    stepwise_model = ExponentialSmoothing(df1.ix[:,1],seasonal_periods=3 ,trend='add', seasonal='add').fit()\n",
    "    #prediction\n",
    "    future_forecast = stepwise_model.forecast(len(df2))\n",
    "    holtwi_mape=mape(df2.ix[:,1],future_forecast)\n",
    "    stder=np.std(stepwise_model.resid)\n",
    "    print(stder)\n",
    "    return(holtwi_mape,future_forecast,stder)\n"
   ]
  },
  {
   "cell_type": "code",
   "execution_count": 50,
   "metadata": {},
   "outputs": [
    {
     "name": "stderr",
     "output_type": "stream",
     "text": [
      "C:\\Anaconda\\lib\\site-packages\\ipykernel_launcher.py:2: DeprecationWarning: \n",
      ".ix is deprecated. Please use\n",
      ".loc for label based indexing or\n",
      ".iloc for positional indexing\n",
      "\n",
      "See the documentation here:\n",
      "http://pandas.pydata.org/pandas-docs/stable/indexing.html#ix-indexer-is-deprecated\n",
      "  \n",
      "C:\\Anaconda\\lib\\site-packages\\ipykernel_launcher.py:27: DeprecationWarning: \n",
      ".ix is deprecated. Please use\n",
      ".loc for label based indexing or\n",
      ".iloc for positional indexing\n",
      "\n",
      "See the documentation here:\n",
      "http://pandas.pydata.org/pandas-docs/stable/indexing.html#ix-indexer-is-deprecated\n",
      "C:\\Anaconda\\lib\\site-packages\\ipykernel_launcher.py:28: DeprecationWarning: \n",
      ".ix is deprecated. Please use\n",
      ".loc for label based indexing or\n",
      ".iloc for positional indexing\n",
      "\n",
      "See the documentation here:\n",
      "http://pandas.pydata.org/pandas-docs/stable/indexing.html#ix-indexer-is-deprecated\n"
     ]
    },
    {
     "name": "stdout",
     "output_type": "stream",
     "text": [
      "                 date  sales\n",
      "date                        \n",
      "2014-07-01 2014-07-01  762.0\n",
      "2014-08-01 2014-08-01  573.0\n",
      "2014-09-01 2014-09-01  637.0\n",
      "2014-10-01 2014-10-01  770.0\n",
      "2014-11-01 2014-11-01  614.0\n",
      "                 date       sales\n",
      "date                             \n",
      "2018-05-01 2018-05-01  634.000000\n",
      "2018-06-01 2018-06-01  726.000000\n",
      "2018-07-01 2018-07-01  615.612245\n",
      "date\n",
      "2018-05-01   2017-05-01\n",
      "2018-06-01   2017-06-01\n",
      "2018-07-01   2017-07-01\n",
      "Name: date, dtype: datetime64[ns]\n",
      "110.16527421005648\n",
      "Fit ARIMA: order=(2, 1, 2) seasonal_order=(0, 0, 0, 1); AIC=562.254, BIC=573.094, Fit time=0.541 seconds\n",
      "Fit ARIMA: order=(0, 1, 0) seasonal_order=(0, 0, 0, 1); AIC=577.176, BIC=580.789, Fit time=0.016 seconds\n",
      "Fit ARIMA: order=(1, 1, 0) seasonal_order=(0, 0, 0, 1); AIC=576.647, BIC=582.067, Fit time=0.078 seconds\n",
      "Fit ARIMA: order=(0, 1, 1) seasonal_order=(0, 0, 0, 1); AIC=561.657, BIC=567.077, Fit time=0.094 seconds\n",
      "Fit ARIMA: order=(1, 1, 1) seasonal_order=(0, 0, 0, 1); AIC=561.486, BIC=568.713, Fit time=0.149 seconds\n",
      "Fit ARIMA: order=(1, 1, 2) seasonal_order=(0, 0, 0, 1); AIC=560.995, BIC=570.029, Fit time=0.211 seconds\n",
      "Fit ARIMA: order=(2, 1, 3) seasonal_order=(0, 0, 0, 1); AIC=561.872, BIC=574.519, Fit time=0.614 seconds\n",
      "Fit ARIMA: order=(0, 1, 2) seasonal_order=(0, 0, 0, 1); AIC=559.847, BIC=567.074, Fit time=0.141 seconds\n",
      "Fit ARIMA: order=(0, 1, 3) seasonal_order=(0, 0, 0, 1); AIC=560.446, BIC=569.480, Fit time=0.258 seconds\n",
      "Fit ARIMA: order=(1, 1, 3) seasonal_order=(0, 0, 0, 1); AIC=563.759, BIC=574.599, Fit time=0.452 seconds\n",
      "Total fit time: 2.558 seconds\n"
     ]
    },
    {
     "name": "stderr",
     "output_type": "stream",
     "text": [
      "C:\\Anaconda\\lib\\site-packages\\statsmodels\\tsa\\base\\tsa_model.py:171: ValueWarning: No frequency information was provided, so inferred frequency MS will be used.\n",
      "  % freq, ValueWarning)\n",
      "C:\\Anaconda\\lib\\site-packages\\statsmodels\\tsa\\base\\tsa_model.py:171: ValueWarning: No frequency information was provided, so inferred frequency MS will be used.\n",
      "  % freq, ValueWarning)\n",
      "C:\\Anaconda\\lib\\site-packages\\statsmodels\\tsa\\base\\tsa_model.py:171: ValueWarning: No frequency information was provided, so inferred frequency MS will be used.\n",
      "  % freq, ValueWarning)\n"
     ]
    },
    {
     "name": "stdout",
     "output_type": "stream",
     "text": [
      "121.1768782204246\n"
     ]
    }
   ],
   "source": [
    "df11=remove_outlier(SCDData)\n",
    "train,test=Create_train_test(df11)\n",
    "Sa_mape,Sa_future,Sa_Resstd=Simple_average(train,test)\n",
    "Sm_mape,Sm_future,Sm_Resstd=Simple_Moving(train,test)\n",
    "Na_mape,Na_future,Na_Resstd=Naive(train,test)\n",
    "SNa_mape,SNa_future,SNa_Resstd=Seasonal_Naive(train,test)\n",
    "Rwd_mape,Rwd_future,Rwd_Resstd=Rwdrift(train,test)\n",
    "Arima_mape,Arima_future,Arima_Resstd=Auto_arima(train,test)\n",
    "Ses_mape,Ses_future,Ses_Resstd=SimpleExp_Smoothing(train,test)\n",
    "Holtli_mape,Holtli_future,Holtli_Resstd=Holtwinter_Linear(train,test)\n",
    "Holtwi_mape,Holtwi_future,Holtwi_Resstd=Holtwinter_Seasonal(train,test)"
   ]
  },
  {
   "cell_type": "code",
   "execution_count": null,
   "metadata": {},
   "outputs": [],
   "source": []
  }
 ],
 "metadata": {
  "kernelspec": {
   "display_name": "Python 3",
   "language": "python",
   "name": "python3"
  },
  "language_info": {
   "codemirror_mode": {
    "name": "ipython",
    "version": 3
   },
   "file_extension": ".py",
   "mimetype": "text/x-python",
   "name": "python",
   "nbconvert_exporter": "python",
   "pygments_lexer": "ipython3",
   "version": "3.7.3"
  }
 },
 "nbformat": 4,
 "nbformat_minor": 2
}
